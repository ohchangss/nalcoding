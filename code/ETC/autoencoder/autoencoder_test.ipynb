{
 "cells": [
  {
   "cell_type": "code",
   "execution_count": 50,
   "id": "7ef216f5",
   "metadata": {},
   "outputs": [],
   "source": [
    "BASE_DIR = '../'*3\n",
    "MODEL_DIR = BASE_DIR + 'code/ETC/autoencoder/autoencoder.ipynb'\n",
    "DATA_DIR =BASE_DIR+ 'code/ETC/autoencoder/dataset_auto_mnist.ipynb'"
   ]
  },
  {
   "cell_type": "code",
   "execution_count": 51,
   "id": "3ce63823",
   "metadata": {},
   "outputs": [],
   "source": [
    "%run {MODEL_DIR}\n",
    "%run {DATA_DIR}"
   ]
  },
  {
   "cell_type": "code",
   "execution_count": 52,
   "id": "72a925de",
   "metadata": {},
   "outputs": [],
   "source": [
    "mset_all = MnistAutoDataset(train_ratio = 1.00)\n",
    "mset_1p = MnistAutoDataset(train_ratio = 0.01)"
   ]
  },
  {
   "cell_type": "code",
   "execution_count": 24,
   "id": "04af7da4",
   "metadata": {},
   "outputs": [
    {
     "name": "stdout",
     "output_type": "stream",
     "text": [
      "Model mnist_mlp_all train started:\n",
      "    Epoch 2: cost=0.514, accuracy=0.864/0.880 (67/67 secs)\n",
      "    Epoch 4: cost=0.450, accuracy=0.884/0.930 (81/148 secs)\n",
      "    Epoch 6: cost=0.424, accuracy=0.896/0.820 (84/232 secs)\n",
      "    Epoch 8: cost=0.407, accuracy=0.900/0.870 (81/313 secs)\n",
      "    Epoch 10: cost=0.403, accuracy=0.901/0.970 (78/391 secs)\n",
      "Model mnist_mlp_all train ended in 391 secs:\n",
      "Model mnist_mlp_all test report: accuracy = 0.896, (1 secs)\n",
      "\n",
      "Model mnist_mlp_all Visualization\n",
      "정답 [4 4 9] vs. 추정 [4 4 9]\n"
     ]
    },
    {
     "data": {
      "image/png": "[encoded data removed]",
      "text/plain": [
       "<Figure size 216x72 with 3 Axes>"
      ]
     },
     "metadata": {
      "needs_background": "light"
     },
     "output_type": "display_data"
    }
   ],
   "source": [
    "conf_mlp =[['full',{'width':10}]]\n",
    "mnist_mlp_all = RnnExtModel('mnist_mlp_all',mset_all,conf_mlp)\n",
    "mnist_mlp_all.exec_all(epoch_count = 10, report=2)"
   ]
  },
  {
   "cell_type": "code",
   "execution_count": 25,
   "id": "e0f519ed",
   "metadata": {},
   "outputs": [
    {
     "name": "stdout",
     "output_type": "stream",
     "text": [
      "Model mnist_mlp_1p train started:\n",
      "    Epoch 2: cost=1.402, accuracy=0.533/0.540 (1/1 secs)\n",
      "    Epoch 4: cost=0.870, accuracy=0.681/0.550 (0/1 secs)\n",
      "    Epoch 6: cost=0.579, accuracy=0.781/0.670 (1/2 secs)\n",
      "    Epoch 8: cost=0.419, accuracy=0.817/0.790 (1/3 secs)\n",
      "    Epoch 10: cost=0.337, accuracy=0.871/0.750 (1/4 secs)\n",
      "Model mnist_mlp_1p train ended in 4 secs:\n",
      "Model mnist_mlp_1p test report: accuracy = 0.684, (0 secs)\n",
      "\n",
      "Model mnist_mlp_1p Visualization\n",
      "정답 [0 2 0] vs. 추정 [0 8 5]\n"
     ]
    },
    {
     "data": {
      "image/png": "[encoded data removed]",
      "text/plain": [
       "<Figure size 216x72 with 3 Axes>"
      ]
     },
     "metadata": {
      "needs_background": "light"
     },
     "output_type": "display_data"
    }
   ],
   "source": [
    "mnist_mlp_1p = RnnExtModel('mnist_mlp_1p',mset_1p,conf_mlp)\n",
    "mnist_mlp_1p.exec_all(epoch_count = 10, report=2)"
   ]
  },
  {
   "cell_type": "code",
   "execution_count": 55,
   "id": "f490cb71",
   "metadata": {},
   "outputs": [
    {
     "name": "stdout",
     "output_type": "stream",
     "text": [
      "Model mnist_auto_1autoencode started:\n",
      "    Epoch 2: cost=2688.216, accuracy=-0.565/-0.565 (130/130 secs)\n",
      "    Epoch 4: cost=2669.626, accuracy=-0.559/-0.559 (173/303 secs)\n",
      "    Epoch 6: cost=2667.264, accuracy=-0.559/-0.559 (195/498 secs)\n",
      "    Epoch 8: cost=2665.386, accuracy=-0.558/-0.558 (211/709 secs)\n",
      "    Epoch 10: cost=2663.772, accuracy=-0.557/-0.557 (164/873 secs)\n",
      "Model mnist_auto_1 autoencode ended in 873 secs :\n",
      "Model mnist_auto_1 train started:\n",
      "    Epoch 2: cost=1.317, accuracy=0.573/0.670 (2/2 secs)\n",
      "    Epoch 4: cost=0.872, accuracy=0.673/0.690 (1/3 secs)\n",
      "    Epoch 6: cost=0.750, accuracy=0.731/0.790 (1/4 secs)\n",
      "    Epoch 8: cost=0.656, accuracy=0.777/0.760 (0/4 secs)\n",
      "    Epoch 10: cost=0.624, accuracy=0.777/0.810 (1/5 secs)\n",
      "Model mnist_auto_1 train ended in 5 secs:\n",
      "Model mnist_auto_1 test report: accuracy = 0.747, (1 secs)\n",
      "\n",
      "Model mnist_auto_1 Visualization\n",
      "정답 [7 7 7] vs. 추정 [7 7 9]\n"
     ]
    },
    {
     "data": {
      "image/png": "[encoded data removed]",
      "text/plain": [
       "<Figure size 216x72 with 3 Axes>"
      ]
     },
     "metadata": {
      "needs_background": "light"
     },
     "output_type": "display_data"
    },
    {
     "data": {
      "image/png": "[encoded data removed]",
      "text/plain": [
       "<Figure size 216x72 with 3 Axes>"
      ]
     },
     "metadata": {
      "needs_background": "light"
     },
     "output_type": "display_data"
    }
   ],
   "source": [
    "conf_auto ={\n",
    "    'encoder':[['full',{'width':10}]],\n",
    "    'decoder':[['full',{'width':784}]],\n",
    "    'supervised':[['full',{'width':10}]]\n",
    "}\n",
    "\n",
    "mnist_auto_1 = Autoencoder('mnist_auto_1',mset_1p, conf_auto)\n",
    "mnist_auto_1.autoencode(epoch_count = 10,report=2)\n",
    "mnist_auto_1.exec_all(epoch_count=10, report=2)"
   ]
  },
  {
   "cell_type": "code",
   "execution_count": 56,
   "id": "64af5e60",
   "metadata": {},
   "outputs": [
    {
     "name": "stdout",
     "output_type": "stream",
     "text": [
      "Model mnist_auto_fixautoencode started:\n"
     ]
    },
    {
     "ename": "KeyboardInterrupt",
     "evalue": "",
     "output_type": "error",
     "traceback": [
      "\u001b[1;31m---------------------------------------------------------------------------\u001b[0m",
      "\u001b[1;31mKeyboardInterrupt\u001b[0m                         Traceback (most recent call last)",
      "\u001b[1;32m~\\AppData\\Local\\Temp/ipykernel_14332/2986222333.py\u001b[0m in \u001b[0;36m<module>\u001b[1;34m\u001b[0m\n\u001b[0;32m      1\u001b[0m mnist_auto_fix = Autoencoder('mnist_auto_fix', mset_1p,conf_auto, \\\n\u001b[0;32m      2\u001b[0m                             fix_encoder = True)\n\u001b[1;32m----> 3\u001b[1;33m \u001b[0mmnist_auto_fix\u001b[0m\u001b[1;33m.\u001b[0m\u001b[0mautoencode\u001b[0m\u001b[1;33m(\u001b[0m\u001b[0mepoch_count\u001b[0m \u001b[1;33m=\u001b[0m \u001b[1;36m10\u001b[0m\u001b[1;33m,\u001b[0m \u001b[0mreport\u001b[0m \u001b[1;33m=\u001b[0m \u001b[1;36m5\u001b[0m\u001b[1;33m)\u001b[0m\u001b[1;33m\u001b[0m\u001b[0m\n\u001b[0m\u001b[0;32m      4\u001b[0m \u001b[0mmnist_auto_fix\u001b[0m\u001b[1;33m.\u001b[0m\u001b[0mexec_all\u001b[0m\u001b[1;33m(\u001b[0m\u001b[0mepoch_count\u001b[0m\u001b[1;33m=\u001b[0m\u001b[1;36m10\u001b[0m\u001b[1;33m,\u001b[0m \u001b[0mreport\u001b[0m\u001b[1;33m=\u001b[0m\u001b[1;36m5\u001b[0m\u001b[1;33m)\u001b[0m\u001b[1;33m\u001b[0m\u001b[0m\n",
      "\u001b[1;32m~\\AppData\\Local\\Temp/ipykernel_14332/1741536695.py\u001b[0m in \u001b[0;36mautoencoder_autoencode\u001b[1;34m(self, epoch_count, batch_size, learning_rate, report)\u001b[0m\n\u001b[0;32m     12\u001b[0m         \u001b[1;32mfor\u001b[0m \u001b[0mn\u001b[0m \u001b[1;32min\u001b[0m \u001b[0mrange\u001b[0m\u001b[1;33m(\u001b[0m\u001b[0mbatch_count\u001b[0m\u001b[1;33m)\u001b[0m\u001b[1;33m:\u001b[0m\u001b[1;33m\u001b[0m\u001b[0m\n\u001b[0;32m     13\u001b[0m             \u001b[0mtrX\u001b[0m \u001b[1;33m=\u001b[0m \u001b[0mself\u001b[0m\u001b[1;33m.\u001b[0m\u001b[0mdataset\u001b[0m\u001b[1;33m.\u001b[0m\u001b[0mget_autoencode_data\u001b[0m\u001b[1;33m(\u001b[0m\u001b[0mbatch_size\u001b[0m\u001b[1;33m,\u001b[0m \u001b[0mn\u001b[0m\u001b[1;33m)\u001b[0m\u001b[1;33m\u001b[0m\u001b[0m\n\u001b[1;32m---> 14\u001b[1;33m             \u001b[0mcost\u001b[0m\u001b[1;33m,\u001b[0m \u001b[0macc\u001b[0m \u001b[1;33m=\u001b[0m \u001b[0mself\u001b[0m\u001b[1;33m.\u001b[0m\u001b[0mautoencode_step\u001b[0m\u001b[1;33m(\u001b[0m\u001b[0mtrX\u001b[0m\u001b[1;33m)\u001b[0m\u001b[1;33m\u001b[0m\u001b[0m\n\u001b[0m\u001b[0;32m     15\u001b[0m             \u001b[0mcosts\u001b[0m\u001b[1;33m.\u001b[0m\u001b[0mappend\u001b[0m\u001b[1;33m(\u001b[0m\u001b[0mcost\u001b[0m\u001b[1;33m)\u001b[0m\u001b[1;33m\u001b[0m\u001b[0m\n\u001b[0;32m     16\u001b[0m             \u001b[0maccs\u001b[0m\u001b[1;33m.\u001b[0m\u001b[0mappend\u001b[0m\u001b[1;33m(\u001b[0m\u001b[0macc\u001b[0m\u001b[1;33m)\u001b[0m\u001b[1;33m\u001b[0m\u001b[0m\n",
      "\u001b[1;32m~\\AppData\\Local\\Temp/ipykernel_14332/1547916448.py\u001b[0m in \u001b[0;36mautoencoder_autoencode_step\u001b[1;34m(self, x)\u001b[0m\n\u001b[0;32m      2\u001b[0m     \u001b[0mself\u001b[0m\u001b[1;33m.\u001b[0m\u001b[0mis_traing\u001b[0m \u001b[1;33m=\u001b[0m \u001b[1;32mTrue\u001b[0m\u001b[1;33m\u001b[0m\u001b[0m\n\u001b[0;32m      3\u001b[0m \u001b[1;33m\u001b[0m\u001b[0m\n\u001b[1;32m----> 4\u001b[1;33m     \u001b[0mhidden\u001b[0m\u001b[1;33m,\u001b[0m \u001b[0maux_encoder\u001b[0m\u001b[1;33m,\u001b[0m \u001b[0maux_decoder\u001b[0m \u001b[1;33m=\u001b[0m \u001b[0mself\u001b[0m\u001b[1;33m.\u001b[0m\u001b[0mforward_autoencode\u001b[0m\u001b[1;33m(\u001b[0m\u001b[0mx\u001b[0m\u001b[1;33m)\u001b[0m\u001b[1;33m\u001b[0m\u001b[0m\n\u001b[0m\u001b[0;32m      5\u001b[0m     \u001b[0mdiff\u001b[0m \u001b[1;33m=\u001b[0m \u001b[0mhidden\u001b[0m \u001b[1;33m-\u001b[0m \u001b[0mx\u001b[0m\u001b[1;33m\u001b[0m\u001b[0m\n\u001b[0;32m      6\u001b[0m     \u001b[0msquare\u001b[0m \u001b[1;33m=\u001b[0m \u001b[0mnp\u001b[0m\u001b[1;33m.\u001b[0m\u001b[0msquare\u001b[0m\u001b[1;33m(\u001b[0m\u001b[0mdiff\u001b[0m\u001b[1;33m)\u001b[0m\u001b[1;33m\u001b[0m\u001b[0m\n",
      "\u001b[1;32m~\\AppData\\Local\\Temp/ipykernel_14332/2498851512.py\u001b[0m in \u001b[0;36mautoencoder_forward_autoencode\u001b[1;34m(self, x)\u001b[0m\n\u001b[0;32m      8\u001b[0m \u001b[1;33m\u001b[0m\u001b[0m\n\u001b[0;32m      9\u001b[0m     \u001b[1;32mfor\u001b[0m \u001b[0mn\u001b[0m\u001b[1;33m,\u001b[0m \u001b[0mhconfig\u001b[0m \u001b[1;32min\u001b[0m \u001b[0menumerate\u001b[0m\u001b[1;33m(\u001b[0m\u001b[0mself\u001b[0m\u001b[1;33m.\u001b[0m\u001b[0mdconfigs\u001b[0m\u001b[1;33m)\u001b[0m\u001b[1;33m:\u001b[0m\u001b[1;33m\u001b[0m\u001b[0m\n\u001b[1;32m---> 10\u001b[1;33m         \u001b[0mhidden\u001b[0m\u001b[1;33m,\u001b[0m \u001b[0maux\u001b[0m \u001b[1;33m=\u001b[0m \u001b[0mself\u001b[0m\u001b[1;33m.\u001b[0m\u001b[0mforward_layer\u001b[0m\u001b[1;33m(\u001b[0m\u001b[0mhidden\u001b[0m\u001b[1;33m,\u001b[0m \u001b[0mhconfig\u001b[0m\u001b[1;33m,\u001b[0m \u001b[0mself\u001b[0m\u001b[1;33m.\u001b[0m\u001b[0mpm_decoder\u001b[0m\u001b[1;33m[\u001b[0m\u001b[0mn\u001b[0m\u001b[1;33m]\u001b[0m\u001b[1;33m)\u001b[0m\u001b[1;33m\u001b[0m\u001b[0m\n\u001b[0m\u001b[0;32m     11\u001b[0m         \u001b[0maux_decoder\u001b[0m\u001b[1;33m.\u001b[0m\u001b[0mappend\u001b[0m\u001b[1;33m(\u001b[0m\u001b[0maux\u001b[0m\u001b[1;33m)\u001b[0m\u001b[1;33m\u001b[0m\u001b[0m\n\u001b[0;32m     12\u001b[0m \u001b[1;33m\u001b[0m\u001b[0m\n",
      "\u001b[1;32m~\\AppData\\Local\\Temp/ipykernel_14332/3737251930.py\u001b[0m in \u001b[0;36mcnn_basic_forward_layer\u001b[1;34m(self, x, hconfig, pm)\u001b[0m\n\u001b[0;32m      4\u001b[0m     \u001b[0mm_name\u001b[0m \u001b[1;33m=\u001b[0m \u001b[1;34m'forward_{}_layer'\u001b[0m\u001b[1;33m.\u001b[0m\u001b[0mformat\u001b[0m\u001b[1;33m(\u001b[0m\u001b[0mlayer_type\u001b[0m\u001b[1;33m)\u001b[0m\u001b[1;33m\u001b[0m\u001b[0m\n\u001b[0;32m      5\u001b[0m     \u001b[0mmethod\u001b[0m \u001b[1;33m=\u001b[0m \u001b[0mgetattr\u001b[0m\u001b[1;33m(\u001b[0m\u001b[0mself\u001b[0m\u001b[1;33m,\u001b[0m \u001b[0mm_name\u001b[0m\u001b[1;33m)\u001b[0m\u001b[1;33m\u001b[0m\u001b[0m\n\u001b[1;32m----> 6\u001b[1;33m     \u001b[0my\u001b[0m\u001b[1;33m,\u001b[0m \u001b[0maux\u001b[0m \u001b[1;33m=\u001b[0m \u001b[0mmethod\u001b[0m\u001b[1;33m(\u001b[0m\u001b[0mx\u001b[0m\u001b[1;33m,\u001b[0m \u001b[0mhconfig\u001b[0m\u001b[1;33m,\u001b[0m \u001b[0mpm\u001b[0m\u001b[1;33m)\u001b[0m\u001b[1;33m\u001b[0m\u001b[0m\n\u001b[0m\u001b[0;32m      7\u001b[0m \u001b[1;33m\u001b[0m\u001b[0m\n\u001b[0;32m      8\u001b[0m     \u001b[1;32mreturn\u001b[0m \u001b[0my\u001b[0m\u001b[1;33m,\u001b[0m \u001b[0maux\u001b[0m\u001b[1;33m\u001b[0m\u001b[0m\n",
      "\u001b[1;32m~\\AppData\\Local\\Temp/ipykernel_14332/3497719965.py\u001b[0m in \u001b[0;36mcnn_basic_forward_full_layer\u001b[1;34m(self, x, hconfig, pm)\u001b[0m\n\u001b[0;32m      8\u001b[0m         \u001b[0mx\u001b[0m \u001b[1;33m=\u001b[0m \u001b[0mx\u001b[0m\u001b[1;33m.\u001b[0m\u001b[0mreshape\u001b[0m\u001b[1;33m(\u001b[0m\u001b[1;33m[\u001b[0m\u001b[0mmb_size\u001b[0m\u001b[1;33m,\u001b[0m \u001b[1;33m-\u001b[0m\u001b[1;36m1\u001b[0m\u001b[1;33m]\u001b[0m\u001b[1;33m)\u001b[0m\u001b[1;33m\u001b[0m\u001b[0m\n\u001b[0;32m      9\u001b[0m \u001b[1;33m\u001b[0m\u001b[0m\n\u001b[1;32m---> 10\u001b[1;33m     \u001b[0maffine\u001b[0m \u001b[1;33m=\u001b[0m \u001b[0mnp\u001b[0m\u001b[1;33m.\u001b[0m\u001b[0mmatmul\u001b[0m\u001b[1;33m(\u001b[0m\u001b[0mx\u001b[0m\u001b[1;33m,\u001b[0m \u001b[0mpm\u001b[0m\u001b[1;33m[\u001b[0m\u001b[1;34m'w'\u001b[0m\u001b[1;33m]\u001b[0m\u001b[1;33m)\u001b[0m \u001b[1;33m+\u001b[0m \u001b[0mpm\u001b[0m\u001b[1;33m[\u001b[0m\u001b[1;34m'b'\u001b[0m\u001b[1;33m]\u001b[0m\u001b[1;33m\u001b[0m\u001b[0m\n\u001b[0m\u001b[0;32m     11\u001b[0m     \u001b[0my\u001b[0m \u001b[1;33m=\u001b[0m \u001b[0mself\u001b[0m\u001b[1;33m.\u001b[0m\u001b[0mactivate\u001b[0m\u001b[1;33m(\u001b[0m\u001b[0maffine\u001b[0m\u001b[1;33m,\u001b[0m \u001b[0mhconfig\u001b[0m\u001b[1;33m)\u001b[0m\u001b[1;33m\u001b[0m\u001b[0m\n\u001b[0;32m     12\u001b[0m \u001b[1;33m\u001b[0m\u001b[0m\n",
      "\u001b[1;31mKeyboardInterrupt\u001b[0m: "
     ]
    }
   ],
   "source": [
    "mnist_auto_fix = Autoencoder('mnist_auto_fix', mset_1p,conf_auto, \\\n",
    "                            fix_encoder = True)\n",
    "mnist_auto_fix.autoencode(epoch_count = 10, report = 5)\n",
    "mnist_auto_fix.exec_all(epoch_count=10, report=5)"
   ]
  },
  {
   "cell_type": "code",
   "execution_count": null,
   "id": "11782268",
   "metadata": {},
   "outputs": [],
   "source": []
  }
 ],
 "metadata": {
  "kernelspec": {
   "display_name": "Python 3 (ipykernel)",
   "language": "python",
   "name": "python3"
  },
  "language_info": {
   "codemirror_mode": {
    "name": "ipython",
    "version": 3
   },
   "file_extension": ".py",
   "mimetype": "text/x-python",
   "name": "python",
   "nbconvert_exporter": "python",
   "pygments_lexer": "ipython3",
   "version": "3.7.0"
  }
 },
 "nbformat": 4,
 "nbformat_minor": 5
}
