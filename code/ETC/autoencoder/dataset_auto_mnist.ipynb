{
 "cells": [
  {
   "cell_type": "code",
   "execution_count": 35,
   "id": "c900cb01",
   "metadata": {},
   "outputs": [],
   "source": [
    "BASE_DIR = '../' *3\n",
    "MODEL_DIR = BASE_DIR + 'code/UTIL/dataset/dataset.ipynb'\n",
    "DATA_DIR = BASE_DIR + '../big_data/mnist/'"
   ]
  },
  {
   "cell_type": "code",
   "execution_count": 36,
   "id": "f084e1e2",
   "metadata": {},
   "outputs": [],
   "source": [
    "%run {MODEL_DIR}"
   ]
  },
  {
   "cell_type": "code",
   "execution_count": 37,
   "id": "2a84a518",
   "metadata": {},
   "outputs": [],
   "source": [
    "class AutoencodeDataset(Dataset):\n",
    "    def __init__(self, name, mode, train_ratio = 1.0):\n",
    "        self.train_ratio = train_ratio\n",
    "        super(AutoencodeDataset, self).__init__(name,mode)\n",
    "        \n",
    "    def get_autoencode_data(self, batch_size, nth):\n",
    "        xs, ys = self.get_train_data(batch_size, nth)\n",
    "        return xs\n",
    "    \n",
    "\n",
    "    @property\n",
    "    def train_count(self):\n",
    "        return int(len(self.tr_xs) * self.train_ratio)\n",
    "    \n",
    "    @property\n",
    "    def autoencode_count(self):\n",
    "        return len(self.tr_xs)"
   ]
  },
  {
   "cell_type": "code",
   "execution_count": 38,
   "id": "4024974c",
   "metadata": {},
   "outputs": [],
   "source": [
    "class MnistAutoDataset(AutoencodeDataset):\n",
    "    def __init__(self, train_ratio = 0.1):\n",
    "        super(MnistAutoDataset, self).__init__('mnist','select',train_ratio)\n",
    "        \n",
    "        tr_x_path = DATA_DIR + 'train-images-idx3-ubyte'\n",
    "        tr_y_path = DATA_DIR + 'train-labels-idx1-ubyte'\n",
    "        \n",
    "        xs = np.fromfile(tr_x_path, dtype = 'uint8')[16:]\n",
    "        ys = np.fromfile(tr_y_path, dtype = 'uint8')[8:]\n",
    "        \n",
    "        xs = xs.reshape([-1,28*28])\n",
    "        ys = np.eye(10)[ys]\n",
    "        \n",
    "        self.shuffle_data(xs, ys)\n",
    "        "
   ]
  },
  {
   "cell_type": "code",
   "execution_count": 39,
   "id": "f8d0b9e5",
   "metadata": {},
   "outputs": [],
   "source": [
    "def mnist_visualize(self, xs, estimates, answers):\n",
    "    dump_text(answers, estimates)\n",
    "    dump_image_data(xs)\n",
    "    \n",
    "def mnist_autoencode_visualize(self, xs, rep, estimates, answers):\n",
    "    dump_text(answers, estimates)\n",
    "    dump_image_data(xs)\n",
    "    dump_image_data(rep)\n",
    "    \n",
    "def mnist_hash_result_visualize(self, images):\n",
    "    dump_image_data(images)\n",
    "    \n",
    "def dump_text(answers, estimates):\n",
    "    ans = np.argmax(answers, axis = 1)\n",
    "    est = np.argmax(estimates, axis = 1)\n",
    "    \n",
    "    print('정답', ans, 'vs.','추정',est)\n",
    "    \n",
    "def dump_image_data(images):\n",
    "    show_cnt = len(images)\n",
    "    fig, axes = plt.subplots(1, show_cnt, figsize = (show_cnt, 1))\n",
    "    \n",
    "    for n in range(show_cnt):\n",
    "        plt.subplot(1, show_cnt, n+1)\n",
    "        plt.imshow(images[n].reshape(28,28), cmap='Greys_r')\n",
    "        plt.axis('off')\n",
    "        \n",
    "    plt.draw()\n",
    "\n",
    "    \n",
    "MnistAutoDataset.visualize = mnist_visualize\n",
    "MnistAutoDataset.autoencode_visualize = mnist_autoencode_visualize\n",
    "MnistAutoDataset.hash_result_visualize = mnist_hash_result_visualize"
   ]
  },
  {
   "cell_type": "code",
   "execution_count": null,
   "id": "fccba835",
   "metadata": {},
   "outputs": [],
   "source": []
  },
  {
   "cell_type": "code",
   "execution_count": null,
   "id": "eae74395",
   "metadata": {},
   "outputs": [],
   "source": []
  },
  {
   "cell_type": "code",
   "execution_count": null,
   "id": "4da0e448",
   "metadata": {},
   "outputs": [],
   "source": []
  },
  {
   "cell_type": "code",
   "execution_count": null,
   "id": "1e7bd98e",
   "metadata": {},
   "outputs": [],
   "source": []
  }
 ],
 "metadata": {
  "kernelspec": {
   "display_name": "Python 3 (ipykernel)",
   "language": "python",
   "name": "python3"
  },
  "language_info": {
   "codemirror_mode": {
    "name": "ipython",
    "version": 3
   },
   "file_extension": ".py",
   "mimetype": "text/x-python",
   "name": "python",
   "nbconvert_exporter": "python",
   "pygments_lexer": "ipython3",
   "version": "3.7.0"
  }
 },
 "nbformat": 4,
 "nbformat_minor": 5
}
