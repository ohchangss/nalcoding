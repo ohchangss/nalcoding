{
 "cells": [
  {
   "cell_type": "code",
   "execution_count": 1,
   "metadata": {},
   "outputs": [],
   "source": [
    "BASE_DIR = '../'*3\n",
    "RUN_DIR = BASE_DIR + '/code/util/dataset/dataset.ipynb'\n",
    "%run {RUN_DIR}"
   ]
  },
  {
   "cell_type": "code",
   "execution_count": 2,
   "metadata": {},
   "outputs": [
    {
     "ename": "NameError",
     "evalue": "name 'Dataset_torch' is not defined",
     "output_type": "error",
     "traceback": [
      "\u001b[1;31m---------------------------------------------------------------------------\u001b[0m",
      "\u001b[1;31mNameError\u001b[0m                                 Traceback (most recent call last)",
      "\u001b[1;32m~\\AppData\\Local\\Temp/ipykernel_488/444910527.py\u001b[0m in \u001b[0;36m<module>\u001b[1;34m\u001b[0m\n\u001b[1;32m----> 1\u001b[1;33m \u001b[1;32mclass\u001b[0m \u001b[0mFlowersDataset\u001b[0m\u001b[1;33m(\u001b[0m\u001b[0mDataset_torch\u001b[0m\u001b[1;33m)\u001b[0m\u001b[1;33m:\u001b[0m\u001b[1;33m\u001b[0m\u001b[0m\n\u001b[0m\u001b[0;32m      2\u001b[0m     \u001b[1;32mpass\u001b[0m\u001b[1;33m\u001b[0m\u001b[0m\n",
      "\u001b[1;31mNameError\u001b[0m: name 'Dataset_torch' is not defined"
     ]
    }
   ],
   "source": [
    "# class FlowersDataset(Dataset_torch):\n",
    "#     pass"
   ]
  },
  {
   "cell_type": "code",
   "execution_count": 3,
   "metadata": {},
   "outputs": [],
   "source": [
    "def flowers_init(self, resolution=[100,100], input_shape=[-1]):\n",
    "    super(FlowersDataset, self).__init__('flowers', 'select')\n",
    "    \n",
    "    path = BASE_DIR+'../big_data/flowers'\n",
    "    self.target_names = list_dir(path)\n",
    "\n",
    "    images = []\n",
    "    idxs = []\n",
    "    \n",
    "    for dx, dname in enumerate(self.target_names):\n",
    "        subpath = path + '/' + dname\n",
    "        filenames = list_dir(subpath)\n",
    "        for fname in filenames:\n",
    "            if fname[-4:] != '.jpg':\n",
    "                continue\n",
    "            imagepath = os.path.join(subpath, fname)\n",
    "            pixels = load_image_pixels(imagepath, resolution, input_shape)\n",
    "            images.append(pixels)\n",
    "            idxs.append(dx)\n",
    "\n",
    "    self.image_shape = resolution + [3]\n",
    "\n",
    "    xs = np.asarray(images, np.float32)\n",
    "    ys = onehot(idxs, len(self.target_names))\n",
    "\n",
    "    self.shuffle_data(xs, ys, 0.8)\n",
    "\n",
    "FlowersDataset.__init__ = flowers_init"
   ]
  },
  {
   "cell_type": "code",
   "execution_count": 4,
   "metadata": {},
   "outputs": [],
   "source": [
    "def flowers_visualize(self, xs, estimates, answers):\n",
    "    draw_images_horz(xs, self.image_shape)\n",
    "    show_select_results(estimates, answers, self.target_names)\n",
    "\n",
    "FlowersDataset.visualize = flowers_visualize"
   ]
  }
 ],
 "metadata": {
  "kernelspec": {
   "display_name": "Python 3 (ipykernel)",
   "language": "python",
   "name": "python3"
  },
  "language_info": {
   "codemirror_mode": {
    "name": "ipython",
    "version": 3
   },
   "file_extension": ".py",
   "mimetype": "text/x-python",
   "name": "python",
   "nbconvert_exporter": "python",
   "pygments_lexer": "ipython3",
   "version": "3.7.0"
  }
 },
 "nbformat": 4,
 "nbformat_minor": 2
}
