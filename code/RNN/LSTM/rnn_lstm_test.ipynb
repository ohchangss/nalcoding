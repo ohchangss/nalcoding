{
 "cells": [
  {
   "cell_type": "code",
   "execution_count": 21,
   "id": "70c2e2fd",
   "metadata": {},
   "outputs": [],
   "source": [
    "BASE_DIR ='../'*3\n",
    "MODEL_DIR = BASE_DIR +'code/RNN/LSTM/rnn_lstm_model.ipynb'\n",
    "DATA_DIR = BASE_DIR +'code/RNN/LSTM/dataset_sounds.ipynb'"
   ]
  },
  {
   "cell_type": "code",
   "execution_count": 38,
   "id": "0a2bdf46",
   "metadata": {},
   "outputs": [],
   "source": [
    "%run {DATA_DIR}\n",
    "%run {MODEL_DIR}"
   ]
  },
  {
   "cell_type": "code",
   "execution_count": 23,
   "id": "46fcd8fd",
   "metadata": {},
   "outputs": [
    {
     "name": "stdout",
     "output_type": "stream",
     "text": [
      "loaded from cache\n"
     ]
    }
   ],
   "source": [
    "usd_10_10 = UrbanSoundDataset(10,10)"
   ]
  },
  {
   "cell_type": "code",
   "execution_count": 39,
   "id": "9af45c49",
   "metadata": {},
   "outputs": [],
   "source": [
    "conf_lstm = ['lstm',{'recur_size':20,'outseq':False}]"
   ]
  },
  {
   "cell_type": "code",
   "execution_count": 40,
   "id": "634ca21c",
   "metadata": {},
   "outputs": [],
   "source": [
    "us_lstm_10_10 = RnnLstmModel('us_lstm_10_10', usd_10_10, conf_lstm)\n"
   ]
  },
  {
   "cell_type": "code",
   "execution_count": 42,
   "id": "178f7f69",
   "metadata": {},
   "outputs": [
    {
     "name": "stdout",
     "output_type": "stream",
     "text": [
      "Model us_lstm_10_10 train started:\n",
      "Model us_lstm_10_10 train ended in 179 secs:\n",
      "Model us_lstm_10_10 test report: accuracy = 0.166, (8 secs)\n",
      "\n",
      "Model us_lstm_10_10 Visualization\n"
     ]
    },
    {
     "data": {
      "text/html": [
       "\n",
       "    <head>\n",
       "    <meta http-equiv=\"Content-Type\" content=\"text/html; charset=utf-8\">\n",
       "    <title>Audio Player</title>\n",
       "    </head>\n",
       "    \n",
       "    <body>\n",
       "    <audio controls=\"controls\" style=\"width:600px\" >\n",
       "      <source src=\"files/ata/archive/urban-sound/Train/7796.wav\" type=\"audio/wav\" />\n",
       "      Your browser does not support the audio element.\n",
       "    </audio>\n",
       "    </body>\n",
       "    "
      ],
      "text/plain": [
       "<IPython.core.display.HTML object>"
      ]
     },
     "metadata": {},
     "output_type": "display_data"
    },
    {
     "name": "stdout",
     "output_type": "stream",
     "text": [
      "jackhammer: wrong(drilling)\n"
     ]
    },
    {
     "data": {
      "text/html": [
       "\n",
       "    <head>\n",
       "    <meta http-equiv=\"Content-Type\" content=\"text/html; charset=utf-8\">\n",
       "    <title>Audio Player</title>\n",
       "    </head>\n",
       "    \n",
       "    <body>\n",
       "    <audio controls=\"controls\" style=\"width:600px\" >\n",
       "      <source src=\"files/ata/archive/urban-sound/Train/4119.wav\" type=\"audio/wav\" />\n",
       "      Your browser does not support the audio element.\n",
       "    </audio>\n",
       "    </body>\n",
       "    "
      ],
      "text/plain": [
       "<IPython.core.display.HTML object>"
      ]
     },
     "metadata": {},
     "output_type": "display_data"
    },
    {
     "name": "stdout",
     "output_type": "stream",
     "text": [
      "street_music: wrong(car_horn)\n"
     ]
    },
    {
     "data": {
      "text/html": [
       "\n",
       "    <head>\n",
       "    <meta http-equiv=\"Content-Type\" content=\"text/html; charset=utf-8\">\n",
       "    <title>Audio Player</title>\n",
       "    </head>\n",
       "    \n",
       "    <body>\n",
       "    <audio controls=\"controls\" style=\"width:600px\" >\n",
       "      <source src=\"files/ata/archive/urban-sound/Train/2149.wav\" type=\"audio/wav\" />\n",
       "      Your browser does not support the audio element.\n",
       "    </audio>\n",
       "    </body>\n",
       "    "
      ],
      "text/plain": [
       "<IPython.core.display.HTML object>"
      ]
     },
     "metadata": {},
     "output_type": "display_data"
    },
    {
     "name": "stdout",
     "output_type": "stream",
     "text": [
      "street_music: wrong(engine_idling)\n"
     ]
    }
   ],
   "source": [
    "us_lstm_10_10.exec_all(epoch_count=1, report=2)"
   ]
  },
  {
   "cell_type": "code",
   "execution_count": null,
   "id": "78ae69ff",
   "metadata": {},
   "outputs": [],
   "source": []
  }
 ],
 "metadata": {
  "kernelspec": {
   "display_name": "Python 3 (ipykernel)",
   "language": "python",
   "name": "python3"
  },
  "language_info": {
   "codemirror_mode": {
    "name": "ipython",
    "version": 3
   },
   "file_extension": ".py",
   "mimetype": "text/x-python",
   "name": "python",
   "nbconvert_exporter": "python",
   "pygments_lexer": "ipython3",
   "version": "3.7.0"
  }
 },
 "nbformat": 4,
 "nbformat_minor": 5
}
