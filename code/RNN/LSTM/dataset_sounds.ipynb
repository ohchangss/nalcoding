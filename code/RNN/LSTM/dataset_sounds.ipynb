{
 "cells": [
  {
   "cell_type": "code",
   "execution_count": 1,
   "id": "8035faca",
   "metadata": {},
   "outputs": [],
   "source": [
    "BASE_DIR = '../'*3\n",
    "DATA_DIR = BASE_DIR+ 'code/util/dataset/dataset.ipynb'"
   ]
  },
  {
   "cell_type": "code",
   "execution_count": 2,
   "id": "ca25006d",
   "metadata": {},
   "outputs": [],
   "source": [
    "%run {DATA_DIR}"
   ]
  },
  {
   "cell_type": "code",
   "execution_count": 3,
   "id": "6682346a",
   "metadata": {},
   "outputs": [
    {
     "ename": "SyntaxError",
     "evalue": "invalid syntax (Temp/ipykernel_13336/588466412.py, line 9)",
     "output_type": "error",
     "traceback": [
      "\u001b[1;36m  File \u001b[1;32m\"C:\\Users\\oh\\AppData\\Local\\Temp/ipykernel_13336/588466412.py\"\u001b[1;36m, line \u001b[1;32m9\u001b[0m\n\u001b[1;33m    _, va_indices, _ = self.shuffle_data(xsm yys, 0.8)\u001b[0m\n\u001b[1;37m                                               ^\u001b[0m\n\u001b[1;31mSyntaxError\u001b[0m\u001b[1;31m:\u001b[0m invalid syntax\n"
     ]
    }
   ],
   "source": [
    "class UrbanSoundDataset(Dataset):\n",
    "    def __init__(self, interval, window):\n",
    "        super(UrbanSoundDataset, self).__init__('urbansound', 'select')\n",
    "        \n",
    "        xs, ys, path, self.target_names = load_urban_files('train.csv', 'Train', interval, window)\n",
    "        \n",
    "        yys = np.eye(len(self.target_names))[ys]\n",
    "        \n",
    "        _, va_indices, _ = self.shuffle_data(xs, yys, 0.8)\n",
    "        self.va_paths = [paths[k] for k in va_indices]"
   ]
  },
  {
   "cell_type": "code",
   "execution_count": 4,
   "id": "f1278577",
   "metadata": {},
   "outputs": [],
   "source": [
    "def load_urban_files(csv_filename, wav_foldername, interval, window):\n",
    "    cache_path =BASE_DIR+'../big_data/archive/train/Train/{}.{}-{}.cache'.format(wav_foldername, interval, window)\n",
    "    \n",
    "    if os.path.isfile(cache_path):\n",
    "        fc = np.load(cache_path)\n",
    "        print(\"loaded from cache\")\n",
    "        return fc['arr_0'], fc['arr_1'], fc['arr_2'], fc['arr_3']\n",
    "    \n",
    "    \n",
    "    rows, _ = load_csv(BASE_DIR+'../big_data/archive/train/'+csv_filename)\n",
    "    \n",
    "    xs,ys,lengs,paths,targets, n = [],[],[],[],[], 0\n",
    "    \n",
    "    \n",
    "    for row in rows:\n",
    "        if row[1] not in targets:\n",
    "            targets.append(row[1])\n",
    "            \n",
    "        cat_idx = targets.index(row[1])\n",
    "        \n",
    "        \n",
    "        wav_path = BASE_DIR + '../big_data/train/Train/{}/{}.wav'.format(wav_foldername, row[0])\n",
    "        chunk_cnt, chunk_dat = wav_to_fft(wav_path, nterval,window)\n",
    "        if chunk_cnt <= 0: continue\n",
    "            \n",
    "        xs.append(chunk_dat)\n",
    "        lengs.append(chunk_cnt)\n",
    "        ys.append(cat_idx)\n",
    "        paths.append(wav_path)\n",
    "        n += 1\n",
    "        \n",
    "        if n% 100 ==0:\n",
    "            print(\"{} files are processed \".format(n) )\n",
    "            \n",
    "    \n",
    "    xmax_size = np.max(lengs)\n",
    "    xxs = np.zeros([n, xmax_size+1, xs[0].shape[1]])\n",
    "    \n",
    "    for n,x in enumerate(xs):\n",
    "        xxs[n,0,0] = lengs[n]\n",
    "        xxs[n,1:lengs[n]+1,:]=x\n",
    "        \n",
    "    fid = open(cache_path, 'wb')\n",
    "    np.savez(fid, xxs, ys, paths, targets)\n",
    "    fid.close()\n",
    "    \n",
    "    \n",
    "    return xxs, ys, paths, targets"
   ]
  },
  {
   "cell_type": "code",
   "execution_count": null,
   "id": "546e2f0d",
   "metadata": {},
   "outputs": [],
   "source": [
    "def wav_to_fft(fname, interval, window):\n",
    "    try:\n",
    "        f=wave.open(fanme, 'rb')\n",
    "        \n",
    "        params = f.getparams()\n",
    "        nchannels, sampwidth, framerate, nframes = params[:4]\n",
    "        if nchannels != 1 and nchannels !=2 : return 0, 1\n",
    "        if sampwidth != 2: return 0,2\n",
    "        if framerate != 44100 :return 0,3\n",
    "        \n",
    "        str_data = f.readframes(nframes)\n",
    "        f.close()\n",
    "        \n",
    "        \n",
    "    except:\n",
    "        return 0,4\n",
    "    \n",
    "    \n",
    "    wave_data = np.frombuffer(str_data, dtype=np.short)\n",
    "    wave_data.shape=-1,nchannels\n",
    "    wave_data = wave_data.T\n",
    "    \n",
    "    if wave_data.shape[1]< framerate *1:\n",
    "        return 0, 5\n",
    "    \n",
    "    \n",
    "    chunk_size = framerate * window // 1000\n",
    "    chunk_interval - framerate *interval // 1000\n",
    "    chunk_cnt = (wave_data.shape[1]- chunk_size) // chunk_interval +1 \n",
    "    \n",
    "    \n",
    "    wave_buf = np.zeros([chunk_cnt, chunk_size])\n",
    "    \n",
    "    for n in range(chunk_cnt):\n",
    "        pos = n * chunk_interval\n",
    "        wave_buf[n,:] = wave_data[0, pos:pos+chunk_size]\n",
    "    fft_dat = np.fft.fft(wave_buf)\n",
    "\n",
    "    n=fft_dat.shape[-1]//200\n",
    "    fft_dat = np.abs(fft_dat)/ (chunk_size//2)\n",
    "    fft_dat = fft_dat[:, -n * 200:-n*100].reshape([-1,100,n])\n",
    "    fft_dat = np.average(fft_dat, 2)\n",
    "    \n",
    "    return chunk_cnt, np.asarray(fft_dat)\n",
    "        \n",
    "    "
   ]
  },
  {
   "cell_type": "code",
   "execution_count": null,
   "id": "9ba94d68",
   "metadata": {},
   "outputs": [],
   "source": [
    "def urban_sound_visualize(self, xs, estimates, answers):\n",
    "    for n in range(len(xs)):\n",
    "        path = self.va_paths[self.va_indices[n]]\n",
    "        wavPlayer(path[17:])\n",
    "        est = np.argmax(estimates[n])\n",
    "        ans = np.argmax(answers[n])\n",
    "        if (est == ans):\n",
    "            print(\"{}: correct\".format(self.target_names[est]))\n",
    "        else:\n",
    "            print(\"{}: wrong({})\".format(self.target_names[est],\n",
    "                                        self.target_names[ans]))\n",
    "\n",
    "UrbanSoundDataset.visualize = urban_sound_visualize"
   ]
  },
  {
   "cell_type": "code",
   "execution_count": null,
   "id": "85aca533",
   "metadata": {},
   "outputs": [],
   "source": [
    "from IPython.core.display import HTML\n",
    "\n",
    "def wavPlayer(filepath):\n",
    "    src = \"\"\"\n",
    "    <head>\n",
    "    <meta http-equiv = \"content-Type\" content =\"text/html; charset=utf-8\">\n",
    "    <title>Audio Player</title>\n",
    "    </head>\n",
    "    \n",
    "    <body>\n",
    "    <audio controls = \"controls\" style = \"width:600px\">\n",
    "     <source src = \"files/%s\" type = \"audio/wav\" />\n",
    "     your browser dows not support the audio element.\n",
    "    </audio>\n",
    "    </body>\n",
    "    \"\"\"%(filepath)\n",
    "    display(HTML(src))"
   ]
  },
  {
   "cell_type": "code",
   "execution_count": null,
   "id": "4e61dfa8",
   "metadata": {},
   "outputs": [],
   "source": []
  },
  {
   "cell_type": "code",
   "execution_count": null,
   "id": "fef2eb74",
   "metadata": {},
   "outputs": [],
   "source": []
  },
  {
   "cell_type": "code",
   "execution_count": null,
   "id": "2ee94fa8",
   "metadata": {},
   "outputs": [],
   "source": []
  }
 ],
 "metadata": {
  "kernelspec": {
   "display_name": "Python 3 (ipykernel)",
   "language": "python",
   "name": "python3"
  },
  "language_info": {
   "codemirror_mode": {
    "name": "ipython",
    "version": 3
   },
   "file_extension": ".py",
   "mimetype": "text/x-python",
   "name": "python",
   "nbconvert_exporter": "python",
   "pygments_lexer": "ipython3",
   "version": "3.7.0"
  }
 },
 "nbformat": 4,
 "nbformat_minor": 5
}
