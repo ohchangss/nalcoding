{
 "cells": [
  {
   "cell_type": "code",
   "execution_count": 38,
   "id": "7b6053b9",
   "metadata": {},
   "outputs": [],
   "source": [
    "BASE_DIR = '../'*3\n",
    "DATA_DIR = BASE_DIR+ 'code/RNN/rnn_basic/dataset_automata.ipynb'\n",
    "MODEL_DIR = BASE_DIR+ 'code/RNN/rnn_basic/rnn_basic_model.ipynb'"
   ]
  },
  {
   "cell_type": "code",
   "execution_count": 54,
   "id": "f080bb21",
   "metadata": {},
   "outputs": [],
   "source": [
    "%run {DATA_DIR}\n",
    "%run {MODEL_DIR}"
   ]
  },
  {
   "cell_type": "code",
   "execution_count": 55,
   "id": "66cf95b9",
   "metadata": {},
   "outputs": [],
   "source": [
    "ad = AutomataDataset()\n",
    "\n",
    "am_2 = RnnBasicModel('am_2', ad, ['rnn', {'recur_size':2, 'outseq':False}])\n",
    "am_4 = RnnBasicModel('am_4', ad, ['rnn', {'recur_size':4, 'outseq':False}])\n",
    "am_8 = RnnBasicModel('am_8', ad, ['rnn', {'recur_size':8, 'outseq':False}])"
   ]
  },
  {
   "cell_type": "code",
   "execution_count": 56,
   "id": "be794cc4",
   "metadata": {},
   "outputs": [
    {
     "name": "stdout",
     "output_type": "stream",
     "text": [
      "Model am_2 train started:\n",
      "Model am_2 train ended in 338 secs:\n",
      "Model am_2 test report: accuracy = 0.524, (0 secs)\n",
      "\n",
      "Model am_2 Visualization\n",
      "49*r(xzxd)-qmw*5): 잘못된 패턴 => 탈락추정(0.50) : O\n",
      "m/(((482)+3/42-b/a)): 올바른 패턴 => 합격추정(0.50) : O\n",
      "wpyb/nm4oe+w2js/5): 잘못된 패턴 => 합격추정(0.50) : X\n"
     ]
    }
   ],
   "source": [
    "am_2.exec_all(epoch_count=1, report=2)\n"
   ]
  },
  {
   "cell_type": "code",
   "execution_count": null,
   "id": "afd924f7",
   "metadata": {},
   "outputs": [],
   "source": [
    "am_4.exec_all(epoch_count=10, report=2)"
   ]
  },
  {
   "cell_type": "code",
   "execution_count": null,
   "id": "442a5dcc",
   "metadata": {},
   "outputs": [],
   "source": [
    "am_8.exec_all(epoch_count=10, report=2)"
   ]
  }
 ],
 "metadata": {
  "kernelspec": {
   "display_name": "Python 3 (ipykernel)",
   "language": "python",
   "name": "python3"
  },
  "language_info": {
   "codemirror_mode": {
    "name": "ipython",
    "version": 3
   },
   "file_extension": ".py",
   "mimetype": "text/x-python",
   "name": "python",
   "nbconvert_exporter": "python",
   "pygments_lexer": "ipython3",
   "version": "3.7.0"
  }
 },
 "nbformat": 4,
 "nbformat_minor": 5
}
