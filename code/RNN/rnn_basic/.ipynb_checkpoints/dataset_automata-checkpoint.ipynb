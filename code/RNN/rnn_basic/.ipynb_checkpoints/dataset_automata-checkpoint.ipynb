{
 "cells": [
  {
   "cell_type": "code",
   "execution_count": 1,
   "id": "9fad5079",
   "metadata": {},
   "outputs": [],
   "source": [
    "BASE_DIR = '../'*3\n",
    "DATA_DIR = BASE_DIR+ 'code/util/dataset/dataset.ipynb'"
   ]
  },
  {
   "cell_type": "code",
   "execution_count": 3,
   "id": "b12dc985",
   "metadata": {},
   "outputs": [],
   "source": [
    "%run {DATA_DIR}"
   ]
  },
  {
   "cell_type": "code",
   "execution_count": 5,
   "id": "7b0d0475",
   "metadata": {},
   "outputs": [],
   "source": [
    "MIN_LENGTH=10\n",
    "MAX_LENGTH=40\n",
    "\n",
    "ALPHA = [chr(n) for n in range(ord('a'),ord('z')+1)]\n",
    "DIGIT = [chr(n) for n in range(ord('0'),ord('9')+1)]\n",
    "\n",
    "EOS=['$']\n",
    "ADDOP=['+','-']\n",
    "MULTOP=['*','/']\n",
    "LPAREN=['(']\n",
    "RPAREN=[')']\n",
    "\n",
    "SYMBOLS = EOS +ADDOP + MULTOP + LPAREN + RPAREN\n",
    "ALPHANUM = ALPHA + DIGIT\n",
    "ALPHABET = SYMBOLS + ALPHANUM"
   ]
  },
  {
   "cell_type": "code",
   "execution_count": 6,
   "id": "73e80430",
   "metadata": {},
   "outputs": [],
   "source": [
    "S= 0\n",
    "E= 1\n",
    "T= 2\n",
    "F= 3\n",
    "V= 4\n",
    "N= 5\n",
    "V2= 6\n",
    "\n",
    "RULES={\n",
    "    S:[[E]],\n",
    "    E:[[T],[E,ADDOP,T]],\n",
    "    T:[[F],[T,MULTOP, F]],\n",
    "    F:[[V],[N],[LPAREN,E,RPAREN]],\n",
    "    V:[[ALPHA],[ALPHA, V2]],\n",
    "    V2:[[ALPHANUM],[ALPHANUM,V2]],\n",
    "    N:[[DIGIT],[DIGIT,N]]\n",
    "}"
   ]
  },
  {
   "cell_type": "code",
   "execution_count": 8,
   "id": "0c46afa6",
   "metadata": {},
   "outputs": [],
   "source": [
    "E_NEXT = EOS + RPAREN + ADDOP\n",
    "T_NEXT = E_NEXT + MULTOP\n",
    "F_NEXT = T_NEXT\n",
    "V_NEXT = F_NEXT\n",
    "N_NEXT = F_NEXT\n",
    "\n",
    "action_table ={\n",
    "    0:[[ALPHA, 6],[DIGIT, 7],[LPAREN, 8]],\n",
    "    1:[[ADDOP,9],[EOS,0]],\n",
    "    2:[[MULTOP, 10],[E_NEXT, -1, E]],\n",
    "    3:[[T_NEXT, -1, T]],\n",
    "    4:[[F_NEXT, -1, F]],\n",
    "    5:[[F_NEXT, -1, F]],\n",
    "    6:[[ALPHANUM, 6],[V_NEXT, -1, V]],\n",
    "    7:[[DIGIT, 7],[N_NEXT, -1, N]],\n",
    "    8:[[ALPHA, 6],[DIGIT,7],[LPAREN,8]],\n",
    "    9:[[ALPHA, 6],[DIGIT,7],[LPAREN,8]],\n",
    "    10:[[ALPHA, 6],[DIGIT,7],[LPAREN,8]],\n",
    "    11:[[V_NEXT, -2, V]],\n",
    "    12:[[N_NEXT, -2, N]],\n",
    "    13:[[RPAREN, 16],[ADDOP, 9]],\n",
    "    14:[[MULTOP, 10],[T_NEXT, -3, T]],\n",
    "    15:[[F_NEXT, -3, F]],\n",
    "    16:[[F_NEXT, -3, F]],\n",
    "    \n",
    "}\n",
    "\n",
    "goto_table = {\n",
    "    \n",
    "    0:{E:1,T:2,F:3,V:4,N:5},\n",
    "    6:{V:11},\n",
    "    7:{N:12},\n",
    "    8:{E:13, T:2, F:3, V:4, N:5},\n",
    "    9:{T:14, F:3, V:4, N:5},\n",
    "    10:{F:15, V:4, N:5},\n",
    "    \n",
    "    \n",
    "}"
   ]
  },
  {
   "cell_type": "code",
   "execution_count": null,
   "id": "44eb34ea",
   "metadata": {},
   "outputs": [],
   "source": []
  }
 ],
 "metadata": {
  "kernelspec": {
   "display_name": "Python 3 (ipykernel)",
   "language": "python",
   "name": "python3"
  },
  "language_info": {
   "codemirror_mode": {
    "name": "ipython",
    "version": 3
   },
   "file_extension": ".py",
   "mimetype": "text/x-python",
   "name": "python",
   "nbconvert_exporter": "python",
   "pygments_lexer": "ipython3",
   "version": "3.7.0"
  }
 },
 "nbformat": 4,
 "nbformat_minor": 5
}
