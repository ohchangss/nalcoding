{
 "cells": [
  {
   "cell_type": "code",
   "execution_count": 3,
   "id": "df5689b5",
   "metadata": {},
   "outputs": [],
   "source": [
    "BASE_DIR = '../'*3\n",
    "RUN_DIR = BASE_DIR + 'code/CNN/reg_model/cnn_reg_model.ipynb'"
   ]
  },
  {
   "cell_type": "code",
   "execution_count": 4,
   "id": "4961b297",
   "metadata": {},
   "outputs": [],
   "source": [
    "%run {RUN_DIR}"
   ]
  },
  {
   "cell_type": "code",
   "execution_count": 6,
   "id": "468787e0",
   "metadata": {},
   "outputs": [],
   "source": [
    "class CnnExtModel(CnnRegModel):\n",
    "    macros ={}\n",
    "    \n",
    "    def __init__(self, name, dataset, hconfigs, show_maps=False,\\\n",
    "                l2_decay = 0, l1_decay = 0, dump_structure = False):\n",
    "        self.dump_structure = dump_structure\n",
    "        self.layer_index = 0\n",
    "        self.layer_depth=0\n",
    "        self.param_count = 0\n",
    "        super(CnnExtModel, self).__init__(name, dataset, hconfigs, show_maps,l2_decay, l1_decay)\n",
    "        \n",
    "        if self.dump_structure :\n",
    "            print('Total parameter count : {}'.format(self.param_count))"
   ]
  },
  {
   "cell_type": "code",
   "execution_count": 8,
   "id": "a3d8d92d",
   "metadata": {},
   "outputs": [],
   "source": [
    "def cnn_ext_alloc_layer_param(self, input_shape, hconfig):\n",
    "    layer_type = get_layer_type(hconfig)\n",
    "    \n",
    "    if layer_type in ['serial', 'parallel', 'loop','add','custom']:\n",
    "        if self.dump_structure:\n",
    "            dump_str = layer_type\n",
    "            if layer_type =='custom':\n",
    "                name = get_conf_param(hconfig, 'name')\n",
    "                dump_str += ' '+name\n",
    "            print('{:>{width}}{}'.format('', dump_str, width = self.layer_depth*2))\n",
    "            \n",
    "        self.layer_depth += 1;\n",
    "    \n",
    "    pm, output_shape = super(CnnExtModel, self).alloc_layer_param(input_shape, hconfig)\n",
    "    \n",
    "\n",
    "    if layer_type in ['serial', 'parallel', 'loop', 'add', 'custom']:\n",
    "        self.layer_depth -= 1;\n",
    "        \n",
    "    elif self.dump_structure:\n",
    "        self.layer_index +=1\n",
    "        pm_str ='';\n",
    "        if layer_type == 'full':\n",
    "            ph, pw = pm['w'].shape\n",
    "            pm_count = np.prod(pm['w'].shape) + pm['b'].shape[0]\n",
    "            self.param_count += pm_count\n",
    "            pm_str = 'pm :{}x{}+{}={}'.format(ph,pw,pm['b'].shape[0],pm_count)\n",
    "        elif layer_type == 'conv':\n",
    "            kh,kw,xchn,ychn = pm['k'].shape\n",
    "            pm_count= np.prod(pm['k'].shape)+pm['b'].shape[0]\n",
    "            self.param_count += pm_count\n",
    "            \n",
    "            pm_str = 'pm : {}x{}x{}x{}+{} = {}'.format(kh,kw,xchn,ychn,pm['b'].shape[0],pm_count)\n",
    "        print('{:>{width}}{}: {}, {}=>{}{}'.format('', self.layer_index, layer_type, input_shape, output_shape, pm_str,width=self.layer_depth*2))\n",
    "    \n",
    "    return pm, output_shape\n",
    "\n",
    "CnnExtModel.alloc_layer_param = cnn_ext_alloc_layer_param"
   ]
  },
  {
   "cell_type": "code",
   "execution_count": 27,
   "id": "3a6e8fc7",
   "metadata": {},
   "outputs": [],
   "source": [
    "def cnn_ext_alloc_parallel_layer(self, input_shape, hconfig):\n",
    "    pm_hiddens = []\n",
    "    output_shape =None\n",
    "    \n",
    "    if not isinstance(hconfig[1], dict): hconfig.insert(1,{})\n",
    "    for bconfig in hconfig[2:]:\n",
    "        bpm, bshape = self.alloc_layer_param(input_shape, bconfig)\n",
    "        pm_hiddens.append(bpm)\n",
    "        if output_shape:\n",
    "            assert output_shape[0:-1] == bshape[0:-1]\n",
    "            output_shape[-1] += bshape[-1]\n",
    "            \n",
    "        else:\n",
    "            output_shape = bshape\n",
    "            \n",
    "    return {'pms':pm_hiddens}, output_shape\n",
    "\n",
    "\n",
    "def cnn_ext_forward_parallel_layer(self, x, hconfig, pm):\n",
    "    bys, bauxes, bchns = [],[],[]\n",
    "    for n, bconfig in enumerate(hconfig[2:]):\n",
    "        by, baux = self.forward_layer(x, bconfig, pm['pms'][n])\n",
    "        bys.append(by)\n",
    "        bauxes.append(baux)\n",
    "        bchns.append(by.shape[-1])\n",
    "        \n",
    "        \n",
    "    y = np.concatenate(bys, axis =-1)\n",
    "    return y, [bauxes, bchns]\n",
    "\n",
    "def cnn_ext_backprop_parallel_layer(self, G_y, hconfig, aux):\n",
    "    bauxes, bchns = aux\n",
    "    bcn_from = 0\n",
    "    G_x= 0\n",
    "    for n, bconfig in enumerate(hconfig[2:]):\n",
    "        bcn_to = bcn_from + bchns[n]\n",
    "        G_y_slice = G_y[:,:,:,bcn_from:bcn_to]\n",
    "        G_x += self.backprop_layer(G_y_slice, bconfig, pm['pms'][n],bauxes[n])\n",
    "    return G_x\n",
    "\n",
    "CnnExtModel.alloc_parallel_layer = cnn_ext_alloc_parallel_layer\n",
    "CnnExtModel.forward_parallel_layer = cnn_ext_forward_parallel_layer\n",
    "CnnExtModel.backprop_parallel_layer = cnn_ext_backprop_parallel_layer"
   ]
  },
  {
   "cell_type": "code",
   "execution_count": null,
   "id": "efe4fd7d",
   "metadata": {},
   "outputs": [],
   "source": []
  }
 ],
 "metadata": {
  "kernelspec": {
   "display_name": "Python 3 (ipykernel)",
   "language": "python",
   "name": "python3"
  },
  "language_info": {
   "codemirror_mode": {
    "name": "ipython",
    "version": 3
   },
   "file_extension": ".py",
   "mimetype": "text/x-python",
   "name": "python",
   "nbconvert_exporter": "python",
   "pygments_lexer": "ipython3",
   "version": "3.7.0"
  }
 },
 "nbformat": 4,
 "nbformat_minor": 5
}
